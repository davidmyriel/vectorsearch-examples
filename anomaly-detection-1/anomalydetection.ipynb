{
 "cells": [
  {
   "cell_type": "code",
   "execution_count": 1,
   "id": "e2767e76-bb0b-46f4-b0c8-c252d4a1a82a",
   "metadata": {},
   "outputs": [
    {
     "name": "stdout",
     "output_type": "stream",
     "text": [
      "Requirement already satisfied: qdrant-client in /Library/Frameworks/Python.framework/Versions/3.12/lib/python3.12/site-packages (1.12.0)\n",
      "Requirement already satisfied: scikit-learn in /Library/Frameworks/Python.framework/Versions/3.12/lib/python3.12/site-packages (1.5.1)\n",
      "Requirement already satisfied: numpy in /Library/Frameworks/Python.framework/Versions/3.12/lib/python3.12/site-packages (1.26.4)\n",
      "Requirement already satisfied: matplotlib in /Library/Frameworks/Python.framework/Versions/3.12/lib/python3.12/site-packages (3.10.0)\n",
      "Requirement already satisfied: grpcio>=1.41.0 in /Library/Frameworks/Python.framework/Versions/3.12/lib/python3.12/site-packages (from qdrant-client) (1.66.1)\n",
      "Requirement already satisfied: grpcio-tools>=1.41.0 in /Library/Frameworks/Python.framework/Versions/3.12/lib/python3.12/site-packages (from qdrant-client) (1.66.1)\n",
      "Requirement already satisfied: httpx>=0.20.0 in /Library/Frameworks/Python.framework/Versions/3.12/lib/python3.12/site-packages (from httpx[http2]>=0.20.0->qdrant-client) (0.27.0)\n",
      "Requirement already satisfied: portalocker<3.0.0,>=2.7.0 in /Library/Frameworks/Python.framework/Versions/3.12/lib/python3.12/site-packages (from qdrant-client) (2.8.2)\n",
      "Requirement already satisfied: pydantic>=1.10.8 in /Library/Frameworks/Python.framework/Versions/3.12/lib/python3.12/site-packages (from qdrant-client) (2.10.6)\n",
      "Requirement already satisfied: urllib3<3,>=1.26.14 in /Library/Frameworks/Python.framework/Versions/3.12/lib/python3.12/site-packages (from qdrant-client) (2.2.1)\n",
      "Requirement already satisfied: scipy>=1.6.0 in /Library/Frameworks/Python.framework/Versions/3.12/lib/python3.12/site-packages (from scikit-learn) (1.12.0)\n",
      "Requirement already satisfied: joblib>=1.2.0 in /Library/Frameworks/Python.framework/Versions/3.12/lib/python3.12/site-packages (from scikit-learn) (1.3.2)\n",
      "Requirement already satisfied: threadpoolctl>=3.1.0 in /Library/Frameworks/Python.framework/Versions/3.12/lib/python3.12/site-packages (from scikit-learn) (3.4.0)\n",
      "Requirement already satisfied: contourpy>=1.0.1 in /Library/Frameworks/Python.framework/Versions/3.12/lib/python3.12/site-packages (from matplotlib) (1.3.1)\n",
      "Requirement already satisfied: cycler>=0.10 in /Library/Frameworks/Python.framework/Versions/3.12/lib/python3.12/site-packages (from matplotlib) (0.12.1)\n",
      "Requirement already satisfied: fonttools>=4.22.0 in /Library/Frameworks/Python.framework/Versions/3.12/lib/python3.12/site-packages (from matplotlib) (4.55.6)\n",
      "Requirement already satisfied: kiwisolver>=1.3.1 in /Library/Frameworks/Python.framework/Versions/3.12/lib/python3.12/site-packages (from matplotlib) (1.4.8)\n",
      "Requirement already satisfied: packaging>=20.0 in /Library/Frameworks/Python.framework/Versions/3.12/lib/python3.12/site-packages (from matplotlib) (24.0)\n",
      "Requirement already satisfied: pillow>=8 in /Library/Frameworks/Python.framework/Versions/3.12/lib/python3.12/site-packages (from matplotlib) (10.4.0)\n",
      "Requirement already satisfied: pyparsing>=2.3.1 in /Library/Frameworks/Python.framework/Versions/3.12/lib/python3.12/site-packages (from matplotlib) (3.2.1)\n",
      "Requirement already satisfied: python-dateutil>=2.7 in /Library/Frameworks/Python.framework/Versions/3.12/lib/python3.12/site-packages (from matplotlib) (2.9.0.post0)\n",
      "Requirement already satisfied: protobuf<6.0dev,>=5.26.1 in /Library/Frameworks/Python.framework/Versions/3.12/lib/python3.12/site-packages (from grpcio-tools>=1.41.0->qdrant-client) (5.28.2)\n",
      "Requirement already satisfied: setuptools in /Library/Frameworks/Python.framework/Versions/3.12/lib/python3.12/site-packages (from grpcio-tools>=1.41.0->qdrant-client) (69.2.0)\n",
      "Requirement already satisfied: anyio in /Library/Frameworks/Python.framework/Versions/3.12/lib/python3.12/site-packages (from httpx>=0.20.0->httpx[http2]>=0.20.0->qdrant-client) (4.3.0)\n",
      "Requirement already satisfied: certifi in /Library/Frameworks/Python.framework/Versions/3.12/lib/python3.12/site-packages (from httpx>=0.20.0->httpx[http2]>=0.20.0->qdrant-client) (2024.12.14)\n",
      "Requirement already satisfied: httpcore==1.* in /Library/Frameworks/Python.framework/Versions/3.12/lib/python3.12/site-packages (from httpx>=0.20.0->httpx[http2]>=0.20.0->qdrant-client) (1.0.4)\n",
      "Requirement already satisfied: idna in /Library/Frameworks/Python.framework/Versions/3.12/lib/python3.12/site-packages (from httpx>=0.20.0->httpx[http2]>=0.20.0->qdrant-client) (3.6)\n",
      "Requirement already satisfied: sniffio in /Library/Frameworks/Python.framework/Versions/3.12/lib/python3.12/site-packages (from httpx>=0.20.0->httpx[http2]>=0.20.0->qdrant-client) (1.3.1)\n",
      "Requirement already satisfied: h11<0.15,>=0.13 in /Library/Frameworks/Python.framework/Versions/3.12/lib/python3.12/site-packages (from httpcore==1.*->httpx>=0.20.0->httpx[http2]>=0.20.0->qdrant-client) (0.14.0)\n",
      "Requirement already satisfied: h2<5,>=3 in /Library/Frameworks/Python.framework/Versions/3.12/lib/python3.12/site-packages (from httpx[http2]>=0.20.0->qdrant-client) (4.1.0)\n",
      "Requirement already satisfied: annotated-types>=0.6.0 in /Library/Frameworks/Python.framework/Versions/3.12/lib/python3.12/site-packages (from pydantic>=1.10.8->qdrant-client) (0.6.0)\n",
      "Requirement already satisfied: pydantic-core==2.27.2 in /Library/Frameworks/Python.framework/Versions/3.12/lib/python3.12/site-packages (from pydantic>=1.10.8->qdrant-client) (2.27.2)\n",
      "Requirement already satisfied: typing-extensions>=4.12.2 in /Library/Frameworks/Python.framework/Versions/3.12/lib/python3.12/site-packages (from pydantic>=1.10.8->qdrant-client) (4.12.2)\n",
      "Requirement already satisfied: six>=1.5 in /Library/Frameworks/Python.framework/Versions/3.12/lib/python3.12/site-packages (from python-dateutil>=2.7->matplotlib) (1.16.0)\n",
      "Requirement already satisfied: hyperframe<7,>=6.0 in /Library/Frameworks/Python.framework/Versions/3.12/lib/python3.12/site-packages (from h2<5,>=3->httpx[http2]>=0.20.0->qdrant-client) (6.0.1)\n",
      "Requirement already satisfied: hpack<5,>=4.0 in /Library/Frameworks/Python.framework/Versions/3.12/lib/python3.12/site-packages (from h2<5,>=3->httpx[http2]>=0.20.0->qdrant-client) (4.0.0)\n",
      "\n",
      "\u001b[1m[\u001b[0m\u001b[34;49mnotice\u001b[0m\u001b[1;39;49m]\u001b[0m\u001b[39;49m A new release of pip is available: \u001b[0m\u001b[31;49m24.0\u001b[0m\u001b[39;49m -> \u001b[0m\u001b[32;49m25.0\u001b[0m\n",
      "\u001b[1m[\u001b[0m\u001b[34;49mnotice\u001b[0m\u001b[1;39;49m]\u001b[0m\u001b[39;49m To update, run: \u001b[0m\u001b[32;49mpip3 install --upgrade pip\u001b[0m\n",
      "Note: you may need to restart the kernel to use updated packages.\n"
     ]
    }
   ],
   "source": [
    "pip install qdrant-client scikit-learn numpy matplotlib"
   ]
  },
  {
   "cell_type": "code",
   "execution_count": 2,
   "id": "705ea439-c250-4c80-8ac8-cfd091cf27a1",
   "metadata": {},
   "outputs": [],
   "source": [
    "import numpy as np\n",
    "import matplotlib.pyplot as plt\n",
    "from qdrant_client import QdrantClient\n",
    "from qdrant_client.models import PointStruct, VectorParams, Distance\n",
    "from sklearn.ensemble import IsolationForest"
   ]
  },
  {
   "cell_type": "code",
   "execution_count": 3,
   "id": "06557e21-e216-495e-9433-aa2df7751511",
   "metadata": {},
   "outputs": [
    {
     "name": "stdout",
     "output_type": "stream",
     "text": [
      "Generated 500 vectors of dimension 128\n"
     ]
    }
   ],
   "source": [
    "# Set random seed for reproducibility\n",
    "np.random.seed(42)\n",
    "\n",
    "# Generate normal embeddings (centered around 0.5)\n",
    "normal_data = np.random.normal(loc=0.5, scale=0.1, size=(490, 128))\n",
    "\n",
    "# Generate anomalies (farther from the normal cluster)\n",
    "anomalies = np.random.normal(loc=1.5, scale=0.3, size=(10, 128))\n",
    "\n",
    "# Combine normal and anomalous data\n",
    "data = np.vstack([normal_data, anomalies])\n",
    "\n",
    "# Print data shape\n",
    "print(f\"Generated {data.shape[0]} vectors of dimension {data.shape[1]}\")"
   ]
  },
  {
   "cell_type": "code",
   "execution_count": 4,
   "id": "b77b75e9-f0a6-4bea-a06d-7eeb4e9a45a0",
   "metadata": {},
   "outputs": [
    {
     "name": "stdout",
     "output_type": "stream",
     "text": [
      "Inserted 500 vectors into Qdrant.\n"
     ]
    },
    {
     "name": "stderr",
     "output_type": "stream",
     "text": [
      "/var/folders/v0/wynn6nr12kv02z861v3rl8yc0000gn/T/ipykernel_41225/3816416729.py:7: DeprecationWarning: `recreate_collection` method is deprecated and will be removed in the future. Use `collection_exists` to check collection existence and `create_collection` instead.\n",
      "  client.recreate_collection(\n"
     ]
    }
   ],
   "source": [
    "# Connect to Qdrant (Assuming running locally)\n",
    "client = QdrantClient(\"http://localhost:6333\")\n",
    "\n",
    "# Create a collection (if it doesn't exist)\n",
    "collection_name = \"Stronghold\"\n",
    "\n",
    "client.recreate_collection(\n",
    "    collection_name=collection_name,\n",
    "    vectors_config=VectorParams(size=128, distance=Distance.COSINE)\n",
    ")\n",
    "\n",
    "# Insert data into Qdrant\n",
    "points = [\n",
    "    PointStruct(id=i, vector=vector.tolist(), payload={\"label\": \"unknown\"})\n",
    "    for i, vector in enumerate(data)\n",
    "]\n",
    "client.upsert(collection_name=collection_name, points=points)\n",
    "\n",
    "print(f\"Inserted {len(points)} vectors into Qdrant.\")"
   ]
  },
  {
   "cell_type": "code",
   "execution_count": 6,
   "id": "c590980b-26ba-4a59-a67e-ec0f206ed2bb",
   "metadata": {},
   "outputs": [
    {
     "name": "stdout",
     "output_type": "stream",
     "text": [
      "collections=[CollectionDescription(name='Stronghold'), CollectionDescription(name='hnm'), CollectionDescription(name='hnm_full'), CollectionDescription(name='mtg')]\n"
     ]
    }
   ],
   "source": [
    "print(client.get_collections())"
   ]
  },
  {
   "cell_type": "code",
   "execution_count": 7,
   "id": "07a7e1cb-672e-4b53-8c56-67ec179a6f85",
   "metadata": {},
   "outputs": [
    {
     "name": "stdout",
     "output_type": "stream",
     "text": [
      "Number of vectors in Qdrant: 500\n"
     ]
    }
   ],
   "source": [
    "collection_info = client.get_collection(collection_name=\"Stronghold\")\n",
    "print(\"Number of vectors in Qdrant:\", collection_info.points_count)"
   ]
  },
  {
   "cell_type": "code",
   "execution_count": 8,
   "id": "43853049-631e-40b8-8a84-f14ce52659d9",
   "metadata": {},
   "outputs": [
    {
     "name": "stdout",
     "output_type": "stream",
     "text": [
      "count=500\n"
     ]
    }
   ],
   "source": [
    "print(client.count(collection_name=\"Stronghold\"))"
   ]
  },
  {
   "cell_type": "code",
   "execution_count": 11,
   "id": "4424f0e2-93ac-4fb6-a4c0-96363e89bcb4",
   "metadata": {},
   "outputs": [
    {
     "name": "stdout",
     "output_type": "stream",
     "text": [
      "Retrieved 500 vectors\n"
     ]
    }
   ],
   "source": [
    "retrieved_points = client.scroll(\n",
    "    collection_name=\"Stronghold\", limit=500, with_payload=True\n",
    ")[0]\n",
    "\n",
    "print(f\"Retrieved {len(retrieved_points)} vectors\")"
   ]
  },
  {
   "cell_type": "code",
   "execution_count": 14,
   "id": "a5686662-eb78-4384-9ba0-fdb68e252552",
   "metadata": {},
   "outputs": [
    {
     "name": "stdout",
     "output_type": "stream",
     "text": [
      "✅ Detected 25 anomalies out of 500 vectors.\n"
     ]
    }
   ],
   "source": [
    "# Train Isolation Forest model\n",
    "iso_forest = IsolationForest(contamination=0.05, random_state=42)\n",
    "predictions = iso_forest.fit_predict(data)\n",
    "\n",
    "# Convert predictions (-1 = anomaly, 1 = normal)\n",
    "anomaly_labels = [\"Wraith\" if p == -1 else \"Shadows\" for p in predictions]\n",
    "\n",
    "# Count anomalies\n",
    "print(f\"✅ Detected {anomaly_labels.count('Wraith')} anomalies out of {len(data)} vectors.\")"
   ]
  },
  {
   "cell_type": "code",
   "execution_count": 15,
   "id": "d7701473-2395-4c71-be9c-b8d3c7c1fe4c",
   "metadata": {},
   "outputs": [
    {
     "name": "stdout",
     "output_type": "stream",
     "text": [
      "✅ Updated Qdrant with anomaly labels.\n"
     ]
    }
   ],
   "source": [
    "# Update payloads in Qdrant with anomaly labels\n",
    "for i, point_id in enumerate(retrieved_ids):\n",
    "    client.set_payload(\n",
    "        collection_name=\"Stronghold\",\n",
    "        points=[point_id],\n",
    "        payload={\"anomaly\": anomaly_labels[i]}\n",
    "    )\n",
    "print(\"✅ Updated Qdrant with anomaly labels.\")"
   ]
  },
  {
   "cell_type": "code",
   "execution_count": 21,
   "id": "f6043ba1-51bd-43c7-b137-cb512ecfa530",
   "metadata": {},
   "outputs": [
    {
     "name": "stdout",
     "output_type": "stream",
     "text": [
      "✅ Updated Qdrant with anomaly labels and image URLs.\n"
     ]
    }
   ],
   "source": [
    "# Update payloads in Qdrant with anomaly labels and image URLs\n",
    "for i, point_id in enumerate(retrieved_ids):\n",
    "    # Define image URL based on label\n",
    "    image_url = \"https://i.ibb.co/Q7z72wq3/shadows.png\" if anomaly_labels[i] == \"Shadows\" else \"https://i.ibb.co/NnS6DV5z/wraith.png\"\n",
    "    \n",
    "    client.set_payload(\n",
    "        collection_name=\"Stronghold\",\n",
    "        points=[point_id],\n",
    "        payload={\n",
    "            \"anomaly\": anomaly_labels[i],\n",
    "            \"image_url\": image_url\n",
    "        }\n",
    "    )\n",
    "print(\"✅ Updated Qdrant with anomaly labels and image URLs.\")"
   ]
  },
  {
   "cell_type": "code",
   "execution_count": null,
   "id": "f90188dc-28b7-462a-afd4-f1bc0f3b731f",
   "metadata": {},
   "outputs": [],
   "source": [
    "from sklearn.decomposition import PCA\n",
    "import matplotlib.pyplot as plt\n",
    "\n",
    "# Reduce dimensions to 2D using PCA\n",
    "pca = PCA(n_components=2)\n",
    "data_2d = pca.fit_transform(data)\n",
    "\n",
    "# Assign colors based on anomaly labels\n",
    "colors = [\"red\" if label == \"Wraith\" else \"blue\" for label in anomaly_labels]\n",
    "\n",
    "# Scatter plot\n",
    "plt.figure(figsize=(10, 8))\n",
    "plt.scatter(data_2d[:, 0], data_2d[:, 1], c=colors, alpha=0.7)\n",
    "plt.xlabel(\"PCA Component 1\")\n",
    "plt.ylabel(\"PCA Component 2\")\n",
    "plt.title(\"Anomaly Detection Visualization\")\n",
    "plt.legend(handles=[\n",
    "    plt.Line2D([0], [0], marker='o', color='w', markerfacecolor='blue', label='Shadow', markersize=10),\n",
    "    plt.Line2D([0], [0], marker='o', color='w', markerfacecolor='red', label='Wraith', markersize=10)\n",
    "])\n",
    "plt.show()"
   ]
  },
  {
   "cell_type": "code",
   "execution_count": null,
   "id": "8c39d09d-088a-4bb7-b5a1-758bb408d196",
   "metadata": {},
   "outputs": [],
   "source": []
  }
 ],
 "metadata": {
  "kernelspec": {
   "display_name": "Python 3 (ipykernel)",
   "language": "python",
   "name": "python3"
  },
  "language_info": {
   "codemirror_mode": {
    "name": "ipython",
    "version": 3
   },
   "file_extension": ".py",
   "mimetype": "text/x-python",
   "name": "python",
   "nbconvert_exporter": "python",
   "pygments_lexer": "ipython3",
   "version": "3.12.4"
  }
 },
 "nbformat": 4,
 "nbformat_minor": 5
}
