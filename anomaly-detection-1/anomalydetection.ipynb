{
 "cells": [
  {
   "cell_type": "code",
   "execution_count": null,
   "id": "e2767e76-bb0b-46f4-b0c8-c252d4a1a82a",
   "metadata": {},
   "outputs": [],
   "source": [
    "pip install qdrant-client scikit-learn numpy matplotlib"
   ]
  },
  {
   "cell_type": "code",
   "execution_count": 2,
   "id": "705ea439-c250-4c80-8ac8-cfd091cf27a1",
   "metadata": {},
   "outputs": [],
   "source": [
    "import numpy as np\n",
    "import matplotlib.pyplot as plt\n",
    "from qdrant_client import QdrantClient\n",
    "from qdrant_client.models import PointStruct, VectorParams, Distance\n",
    "from sklearn.ensemble import IsolationForest"
   ]
  },
  {
   "cell_type": "code",
   "execution_count": null,
   "id": "06557e21-e216-495e-9433-aa2df7751511",
   "metadata": {},
   "outputs": [],
   "source": [
    "# Set random seed for reproducibility\n",
    "np.random.seed(42)\n",
    "\n",
    "# Generate normal embeddings (centered around 0.5)\n",
    "normal_data = np.random.normal(loc=0.5, scale=0.1, size=(490, 128))\n",
    "\n",
    "# Generate anomalies (farther from the normal cluster)\n",
    "anomalies = np.random.normal(loc=1.5, scale=0.3, size=(10, 128))\n",
    "\n",
    "# Combine normal and anomalous data\n",
    "data = np.vstack([normal_data, anomalies])\n",
    "\n",
    "# Print data shape\n",
    "print(f\"Generated {data.shape[0]} vectors of dimension {data.shape[1]}\")"
   ]
  },
  {
   "cell_type": "code",
   "execution_count": null,
   "id": "b77b75e9-f0a6-4bea-a06d-7eeb4e9a45a0",
   "metadata": {},
   "outputs": [],
   "source": [
    "# Connect to Qdrant (Assuming running locally)\n",
    "client = QdrantClient(\"http://localhost:6333\")\n",
    "\n",
    "# Create a collection (if it doesn't exist)\n",
    "collection_name = \"Stronghold\"\n",
    "\n",
    "client.recreate_collection(\n",
    "    collection_name=collection_name,\n",
    "    vectors_config=VectorParams(size=128, distance=Distance.COSINE)\n",
    ")\n",
    "\n",
    "# Insert data into Qdrant\n",
    "points = [\n",
    "    PointStruct(id=i, vector=vector.tolist(), payload={\"label\": \"unknown\"})\n",
    "    for i, vector in enumerate(data)\n",
    "]\n",
    "client.upsert(collection_name=collection_name, points=points)\n",
    "\n",
    "print(f\"Inserted {len(points)} vectors into Qdrant.\")"
   ]
  },
  {
   "cell_type": "code",
   "execution_count": null,
   "id": "c590980b-26ba-4a59-a67e-ec0f206ed2bb",
   "metadata": {},
   "outputs": [],
   "source": [
    "print(client.get_collections())"
   ]
  },
  {
   "cell_type": "code",
   "execution_count": null,
   "id": "07a7e1cb-672e-4b53-8c56-67ec179a6f85",
   "metadata": {},
   "outputs": [],
   "source": [
    "collection_info = client.get_collection(collection_name=\"Stronghold\")\n",
    "print(\"Number of vectors in Qdrant:\", collection_info.points_count)"
   ]
  },
  {
   "cell_type": "code",
   "execution_count": null,
   "id": "43853049-631e-40b8-8a84-f14ce52659d9",
   "metadata": {},
   "outputs": [],
   "source": [
    "print(client.count(collection_name=\"Stronghold\"))"
   ]
  },
  {
   "cell_type": "code",
   "execution_count": null,
   "id": "4424f0e2-93ac-4fb6-a4c0-96363e89bcb4",
   "metadata": {},
   "outputs": [],
   "source": [
    "retrieved_points = client.scroll(\n",
    "    collection_name=\"Stronghold\", limit=500, with_payload=True\n",
    ")[0]\n",
    "\n",
    "print(f\"Retrieved {len(retrieved_points)} vectors\")"
   ]
  },
  {
   "cell_type": "code",
   "execution_count": null,
   "id": "a5686662-eb78-4384-9ba0-fdb68e252552",
   "metadata": {},
   "outputs": [],
   "source": [
    "# Train Isolation Forest model\n",
    "iso_forest = IsolationForest(contamination=0.05, random_state=42)\n",
    "predictions = iso_forest.fit_predict(data)\n",
    "\n",
    "# Convert predictions (-1 = anomaly, 1 = normal)\n",
    "anomaly_labels = [\"Wraith\" if p == -1 else \"Shadows\" for p in predictions]\n",
    "\n",
    "# Count anomalies\n",
    "print(f\"✅ Detected {anomaly_labels.count('Wraith')} anomalies out of {len(data)} vectors.\")"
   ]
  },
  {
   "cell_type": "code",
   "execution_count": null,
   "id": "d7701473-2395-4c71-be9c-b8d3c7c1fe4c",
   "metadata": {},
   "outputs": [],
   "source": [
    "# Update payloads in Qdrant with anomaly labels\n",
    "for i, point_id in enumerate(retrieved_ids):\n",
    "    client.set_payload(\n",
    "        collection_name=\"Stronghold\",\n",
    "        points=[point_id],\n",
    "        payload={\"anomaly\": anomaly_labels[i]}\n",
    "    )\n",
    "print(\"✅ Updated Qdrant with anomaly labels.\")"
   ]
  },
  {
   "cell_type": "code",
   "execution_count": null,
   "id": "f6043ba1-51bd-43c7-b137-cb512ecfa530",
   "metadata": {},
   "outputs": [],
   "source": [
    "# Update payloads in Qdrant with anomaly labels and image URLs\n",
    "for i, point_id in enumerate(retrieved_ids):\n",
    "    # Define image URL based on label\n",
    "    image_url = \"https://i.ibb.co/Q7z72wq3/shadows.png\" if anomaly_labels[i] == \"Shadows\" else \"https://i.ibb.co/NnS6DV5z/wraith.png\"\n",
    "    \n",
    "    client.set_payload(\n",
    "        collection_name=\"Stronghold\",\n",
    "        points=[point_id],\n",
    "        payload={\n",
    "            \"anomaly\": anomaly_labels[i],\n",
    "            \"image_url\": image_url\n",
    "        }\n",
    "    )\n",
    "print(\"✅ Updated Qdrant with anomaly labels and image URLs.\")"
   ]
  },
  {
   "cell_type": "code",
   "execution_count": null,
   "id": "f90188dc-28b7-462a-afd4-f1bc0f3b731f",
   "metadata": {},
   "outputs": [],
   "source": [
    "from sklearn.decomposition import PCA\n",
    "import matplotlib.pyplot as plt\n",
    "\n",
    "# Reduce dimensions to 2D using PCA\n",
    "pca = PCA(n_components=2)\n",
    "data_2d = pca.fit_transform(data)\n",
    "\n",
    "# Assign colors based on anomaly labels\n",
    "colors = [\"red\" if label == \"Wraith\" else \"blue\" for label in anomaly_labels]\n",
    "\n",
    "# Scatter plot\n",
    "plt.figure(figsize=(10, 8))\n",
    "plt.scatter(data_2d[:, 0], data_2d[:, 1], c=colors, alpha=0.7)\n",
    "plt.xlabel(\"PCA Component 1\")\n",
    "plt.ylabel(\"PCA Component 2\")\n",
    "plt.title(\"Anomaly Detection Visualization\")\n",
    "plt.legend(handles=[\n",
    "    plt.Line2D([0], [0], marker='o', color='w', markerfacecolor='blue', label='Shadow', markersize=10),\n",
    "    plt.Line2D([0], [0], marker='o', color='w', markerfacecolor='red', label='Wraith', markersize=10)\n",
    "])\n",
    "plt.show()"
   ]
  }
 ],
 "metadata": {
  "kernelspec": {
   "display_name": "Python 3 (ipykernel)",
   "language": "python",
   "name": "python3"
  },
  "language_info": {
   "codemirror_mode": {
    "name": "ipython",
    "version": 3
   },
   "file_extension": ".py",
   "mimetype": "text/x-python",
   "name": "python",
   "nbconvert_exporter": "python",
   "pygments_lexer": "ipython3",
   "version": "3.12.4"
  }
 },
 "nbformat": 4,
 "nbformat_minor": 5
}
